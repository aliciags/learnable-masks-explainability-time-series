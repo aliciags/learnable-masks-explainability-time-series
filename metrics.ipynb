{
 "cells": [
  {
   "cell_type": "code",
   "execution_count": null,
   "metadata": {},
   "outputs": [],
   "source": [
    "# compute complexity scores\n",
    "import pickle\n",
    "from src.evaluation import compute_complexity_score, compute_batch_complexity_score\n",
    "\n",
    "\n",
    "# read pkl data from file\n",
    "path = 'public/simple/'\n",
    "\n",
    "# read file\n",
    "with open(path + 'masks_2.pkl', 'rb') as f:\n",
    "    data = pickle.load(f)\n"
   ]
  },
  {
   "cell_type": "code",
   "execution_count": null,
   "metadata": {},
   "outputs": [
    {
     "name": "stderr",
     "output_type": "stream",
     "text": [
      "/Users/alicia/Documents/Master/TFM/learnable-masks-explainability-time-series/.env/lib/python3.10/site-packages/quantus/metrics/complexity/complexity.py:254: RuntimeWarning: invalid value encountered in divide\n",
      "  a = np.array(np.reshape(a, newshape), dtype=np.float64) / np.sum(np.abs(a))\n"
     ]
    },
    {
     "name": "stdout",
     "output_type": "stream",
     "text": [
      "Complexity per instance: 0.0\n",
      "Complexity per batch: 0.0\n"
     ]
    }
   ],
   "source": [
    "complexity_inst = compute_complexity_score(data)\n",
    "print(f\"Complexity per instance: {complexity_inst}\")\n",
    "\n",
    "complexity_batch = compute_batch_complexity_score(data)\n",
    "print(f\"Complexity per batch: {complexity_batch}\")\n",
    "\n",
    "# am i getting 0 bc is it too simple??"
   ]
  }
 ],
 "metadata": {
  "kernelspec": {
   "display_name": ".env",
   "language": "python",
   "name": "python3"
  },
  "language_info": {
   "codemirror_mode": {
    "name": "ipython",
    "version": 3
   },
   "file_extension": ".py",
   "mimetype": "text/x-python",
   "name": "python",
   "nbconvert_exporter": "python",
   "pygments_lexer": "ipython3",
   "version": "3.10.16"
  }
 },
 "nbformat": 4,
 "nbformat_minor": 2
}
