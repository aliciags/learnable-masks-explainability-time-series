{
 "cells": [
  {
   "cell_type": "code",
   "execution_count": 1,
   "metadata": {},
   "outputs": [
    {
     "name": "stderr",
     "output_type": "stream",
     "text": [
      "/Users/alicia/Documents/Master/TFM/learnable-masks-explainability-time-series/.env/lib/python3.10/site-packages/tqdm/auto.py:21: TqdmWarning: IProgress not found. Please update jupyter and ipywidgets. See https://ipywidgets.readthedocs.io/en/stable/user_install.html\n",
      "  from .autonotebook import tqdm as notebook_tqdm\n"
     ]
    }
   ],
   "source": [
    "# compute complexity scores\n",
    "import pickle\n",
    "from src.evaluation import compute_batch_complexity_score\n",
    "\n",
    "\n",
    "# read pkl data from file\n",
    "path = 'public/simple/'\n",
    "\n",
    "# read file\n",
    "with open(path + 'scores_2.pkl', 'rb') as f:\n",
    "    data = pickle.load(f)\n"
   ]
  },
  {
   "cell_type": "code",
   "execution_count": null,
   "metadata": {},
   "outputs": [],
   "source": [
    "complexity_batch = compute_batch_complexity_score(data)\n",
    "print(f\"Complexity per batch: {complexity_batch}\")\n",
    "\n",
    "# after some changes complexity about 0.0013 something :)"
   ]
  },
  {
   "cell_type": "code",
   "execution_count": null,
   "metadata": {},
   "outputs": [],
   "source": [
    "import torch\n",
    "import numpy as np\n",
    "from src.attribution.flextime import compute_flextime_attribution\n",
    "from src.evaluation import evaluate_attributions\n",
    "\n",
    "# based on Thea's code\n",
    "Fs = 100\n",
    "time_dim = -1\n",
    "time_length = 3000\n",
    "batch_size = 10\n",
    "attributions = {}\n",
    "attributions['deletion'] = {}\n",
    "attributions['insertion'] = {}\n",
    "\n",
    "# to mps if available otherwise to cpu\n",
    "device = 'mps' if torch.backends.mps.is_available() else 'cpu'\n",
    "\n",
    "# load test_dataset with shuffle Flase for sleepedf in hpc\n",
    "test_dataloader = []\n",
    "# load model for sleepedf in hpc\n",
    "model = None\n",
    "\n",
    "predictions = []\n",
    "labels = []"
   ]
  },
  {
   "cell_type": "code",
   "execution_count": null,
   "metadata": {},
   "outputs": [],
   "source": [
    "# prediction\n",
    "for batch in test_dataloader:\n",
    "    # get data\n",
    "    x, y = batch\n",
    "    x = x.to(device)\n",
    "    output = model(x.float())\n",
    "\n",
    "    predictions.append(output)\n",
    "    labels.append(y)"
   ]
  },
  {
   "cell_type": "code",
   "execution_count": null,
   "metadata": {},
   "outputs": [],
   "source": [
    "# concatenat the predictions and the labels through the first dim\n",
    "predictions = torch.cat(predictions, dim=0)\n",
    "labels = torch.cat(labels, dim=0)\n",
    "\n",
    "# save it in the attributions dict\n",
    "attributions['predictions'] = predictions\n",
    "attributions['labels'] = labels"
   ]
  },
  {
   "cell_type": "code",
   "execution_count": null,
   "metadata": {},
   "outputs": [],
   "source": [
    "# evaluate flextime\n",
    "n_filters = 128\n",
    "numtaps = 51\n",
    "key_ = f'flexime_{n_filters}_{numtaps}'\n",
    "\n",
    "attribution, mask = compute_flextime_attribution(model, test_dataloader, {'n_taps': numtaps, 'n_filters': n_filters}, device=device)\n",
    "attributions[key_] = attribution\n",
    "attributions[f'filtermasks_{key_}'] = mask"
   ]
  },
  {
   "cell_type": "code",
   "execution_count": null,
   "metadata": {},
   "outputs": [],
   "source": [
    "# compute accuracy scores\n",
    "quantiles = np.arrange(0, 1.05, 0.05)\n",
    "for mode in ['deletion', 'insertion']:\n",
    "    if not mode in attributions.keys():\n",
    "        attributions[mode] = {}\n",
    "    \n",
    "    acc_scores = evaluate_attributions(model, test_dataloader, attributions[key_], quantiles=quantiles, mode=mode, device=device)\n",
    "    attributions[mode[key_]] = acc_scores"
   ]
  },
  {
   "cell_type": "code",
   "execution_count": null,
   "metadata": {},
   "outputs": [],
   "source": [
    "# dump to file\n",
    "folder = 'public/simple/'\n",
    "path = f'{folder}{key_}.pkl'\n",
    "\n",
    "with open(path, 'wb') as f:\n",
    "    pickle.dump(attributions, f)\n",
    "print(f\"Saved to {path}\")"
   ]
  }
 ],
 "metadata": {
  "kernelspec": {
   "display_name": ".env",
   "language": "python",
   "name": "python3"
  },
  "language_info": {
   "codemirror_mode": {
    "name": "ipython",
    "version": 3
   },
   "file_extension": ".py",
   "mimetype": "text/x-python",
   "name": "python",
   "nbconvert_exporter": "python",
   "pygments_lexer": "ipython3",
   "version": "3.10.16"
  }
 },
 "nbformat": 4,
 "nbformat_minor": 2
}
