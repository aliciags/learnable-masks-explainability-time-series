{
 "cells": [
  {
   "cell_type": "code",
   "execution_count": 2,
   "metadata": {},
   "outputs": [
    {
     "name": "stdout",
     "output_type": "stream",
     "text": [
      "['physioex', 'setup']\n"
     ]
    }
   ],
   "source": [
    "import pkgutil\n",
    "import physioex\n",
    "\n",
    "print([module.name for module in pkgutil.iter_modules(physioex.__path__)])\n"
   ]
  },
  {
   "cell_type": "code",
   "execution_count": null,
   "metadata": {},
   "outputs": [],
   "source": [
    "from physioex.data import PhysioExDataset\n",
    "\n",
    "data = PhysioExDataset(\n",
    "    datasets = [\"hmc\"],\n",
    "    preprocessing = \"xsleepnet\",    # can be \"raw\" also because the Preprocessor \n",
    "                                    # will always save also the raw data\n",
    "    selected_channels = [\"EEG\", \"EOG\", \"EMG\", \"ECG\"], # in case you want to read \n",
    "                                                      # all the channels available\n",
    "    data_folder = \"./data/hmc\",\n",
    ")\n",
    "\n",
    "# you can now access any sequence of epochs in the dataset\n",
    "\n",
    "signal, label = data[0]\n",
    "\n",
    "signal.shape # will be [21 (default sequence lenght), 4, 29, 129]\n",
    "label.shape # will be [21]"
   ]
  },
  {
   "cell_type": "code",
   "execution_count": null,
   "metadata": {},
   "outputs": [],
   "source": []
  }
 ],
 "metadata": {
  "kernelspec": {
   "display_name": ".env",
   "language": "python",
   "name": "python3"
  },
  "language_info": {
   "codemirror_mode": {
    "name": "ipython",
    "version": 3
   },
   "file_extension": ".py",
   "mimetype": "text/x-python",
   "name": "python",
   "nbconvert_exporter": "python",
   "pygments_lexer": "ipython3",
   "version": "3.9.21"
  }
 },
 "nbformat": 4,
 "nbformat_minor": 2
}
