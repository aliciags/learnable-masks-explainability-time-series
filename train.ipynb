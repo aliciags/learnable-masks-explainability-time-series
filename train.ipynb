{
 "cells": [
  {
   "cell_type": "markdown",
   "metadata": {},
   "source": [
    "### TRAINING CHAMBON 2018 WITH PHYSIOEX DATA"
   ]
  },
  {
   "cell_type": "code",
   "execution_count": null,
   "metadata": {},
   "outputs": [
    {
     "name": "stdout",
     "output_type": "stream",
     "text": [
      "2036\n",
      "570\n",
      "409\n"
     ]
    }
   ],
   "source": [
    "from physioex.physioex.train.utils import train, test\n",
    "from physioex.physioex.data import PhysioExDataModule\n",
    "\n",
    "datamodule = PhysioExDataModule(\n",
    "    datasets=[\"sleepedf\"],     # list of datasets to be used\n",
    "    batch_size=64,             # batch size for the DataLoader\n",
    "    preprocessing=\"raw\",       # preprocessing method\n",
    "    selected_channels=[\"EEG\"], # channels to be selected\n",
    "    sequence_length=21,        # length of the sequence\n",
    "    data_folder=\"./data\",      # path to the data folder\n",
    ")\n",
    "\n",
    "# get the DataLoaders\n",
    "train_loader = datamodule.train_dataloader()\n",
    "val_loader = datamodule.val_dataloader()\n",
    "test_loader = datamodule.test_dataloader()\n",
    "\n",
    "print(len(train_loader)) # number of batches in the training set\n",
    "print(len(val_loader)) # number of batches in the validation set\n",
    "print(len(test_loader)) # number of batches in the test set\n",
    "\n",
    "checkpoint_path = \"./model/checkpoint/\""
   ]
  },
  {
   "cell_type": "code",
   "execution_count": null,
   "metadata": {},
   "outputs": [
    {
     "name": "stdout",
     "output_type": "stream",
     "text": [
      "{'model_config': {'loss_call': 'physioex.train.networks.utils.loss:CrossEntropyLoss', 'loss_params': {}, 'sequence_length': 21, 'n_classes': 5, 'in_channels': 1, 'sf': 100, 'n_times': 3000, 'learning_rate': '1e-4', 'adam_beta_1': 0.9, 'adam_beta_2': 0.999, 'adam_epsilon': '1e-8', 'latent_space_dim': 32, 'input_processing': 'raw'}, 'checkpoint_path': './model/checkpoint/', 'input_transform': 'raw', 'model': 'physioex.train.networks.chambon2018:Chambon2018Net', 'model_name': 'chambon2018', 'module': 'physioex.train.networks:Chambon2018Net', 'preprocessing': 'raw', 'target_transform': 'physioex.train.networks.utils.target_transform:get_mid_label'}\n",
      "{'loss_call': 'physioex.train.networks.utils.loss:CrossEntropyLoss', 'loss_params': {}, 'sequence_length': 21, 'n_classes': 5, 'in_channels': 1, 'sf': 100, 'n_times': 3000, 'learning_rate': '1e-4', 'adam_beta_1': 0.9, 'adam_beta_2': 0.999, 'adam_epsilon': '1e-8', 'latent_space_dim': 32, 'input_processing': 'raw'}\n",
      "<class 'physioex.train.networks.utils.loss.CrossEntropyLoss'>\n",
      "chambon2018\n",
      "<class 'physioex.train.networks.chambon2018.Chambon2018Net'>\n"
     ]
    }
   ],
   "source": [
    "import os\n",
    "import yaml\n",
    "import importlib\n",
    "\n",
    "# with open(\"./physioex/physioex/train/networks/config/chambon2018.yaml\", \"r\") as file:\n",
    "with open(\"./config.yaml\", \"r\") as file:\n",
    "    config = yaml.safe_load(file)\n",
    "\n",
    "print(config)\n",
    "network_config = config[\"model_config\"]\n",
    "\n",
    "print(network_config)\n",
    "\n",
    "# load the loss function \n",
    "loss_package, loss_class = network_config[\"loss_call\"].split(\":\")\n",
    "model_loss = getattr(importlib.import_module(loss_package), loss_class)\n",
    "\n",
    "print(model_loss)\n",
    "\n",
    "# in case you provide model_name the system loads the additional model parameters from the library\n",
    "if \"model_name\" in config:\n",
    "    model_name = config[\"model_name\"]\n",
    "    # load the loss function \n",
    "    model_package, model_loader = network_config[\"loss_call\"].split(\":\")\n",
    "    model = getattr(importlib.import_module(model_package), model_loader)\n",
    "\n",
    "print(model_name)\n",
    "\n",
    "# load the model class\n",
    "model_package, model_class = config[\"module\"].split(\":\")\n",
    "model_class = getattr(importlib.import_module(model_package), model_class)\n",
    "\n",
    "print(model_class)"
   ]
  },
  {
   "cell_type": "code",
   "execution_count": null,
   "metadata": {},
   "outputs": [],
   "source": [
    "datamodule_kwargs = {\n",
    "    \"selected_channels\" : [\"EEG\"], # needs to match in_channels\n",
    "    \"sequence_length\" : network_config[\"sequence_length\"],\n",
    "    \"target_transform\" : config[\"target_transform\"],\n",
    "    \"preprocessing\" : config[\"input_transform\"],\n",
    "    \"data_folder\" : \"./data\",\n",
    "}\n",
    "\n",
    "# Train the model\n",
    "best_checkpoint = train(\n",
    "    datasets = datamodule,\n",
    "    datamodule_kwargs = datamodule_kwargs,\n",
    "    model_class = model_class,\n",
    "    model_config = network_config,\n",
    "    checkpoint_path = checkpoint_path,\n",
    "    batch_size = 64,\n",
    "    max_epochs = 10\n",
    ")\n",
    "\n",
    "# Test the model\n",
    "results_dataframe = test(\n",
    "    datasets = datamodule,\n",
    "    datamodule_kwargs = datamodule_kwargs,\n",
    "    model_class = model_class,\n",
    "    model_config = network_config,\n",
    "    chekcpoint_path = os.path.join( checkpoint_path, best_checkpoint ),\n",
    "    batch_size = 64,\n",
    "    results_dir = checkpoint_path,  # if you want to save the test results \n",
    "                                    # in your checkpoint directory\n",
    ")"
   ]
  },
  {
   "cell_type": "markdown",
   "metadata": {},
   "source": [
    "### TRAINING SIMPLE CNN WITH SIMULATED DATA"
   ]
  },
  {
   "cell_type": "code",
   "execution_count": 6,
   "metadata": {},
   "outputs": [
    {
     "name": "stdout",
     "output_type": "stream",
     "text": [
      "(50000, 1, 1000)\n",
      "(50000,)\n"
     ]
    }
   ],
   "source": [
    "# Load and shape synthetic data\n",
    "import os\n",
    "import torch\n",
    "import numpy as np\n",
    "from torch.utils.data import DataLoader, TensorDataset\n",
    "\n",
    "x = None\n",
    "y = None\n",
    "\n",
    "# load the data from synthetic data\n",
    "data_folder = \"./data/synthetic/train_1\"\n",
    "data_files = os.listdir(data_folder)\n",
    "for file in data_files:\n",
    "    if \"samples_0\" in file:\n",
    "        if x is None and y is None:\n",
    "            x = np.load(os.path.join(data_folder, file))\n",
    "            y = np.zeros(5000)\n",
    "        else:\n",
    "            x = np.concatenate([x, np.load(os.path.join(data_folder, file))])\n",
    "            y = np.concatenate([y, np.zeros(5000)])\n",
    "    elif \"samples_1\" in file:\n",
    "        if x is None and y is None:\n",
    "            x = np.load(os.path.join(data_folder, file))\n",
    "            y = np.ones(5000)\n",
    "        else:\n",
    "            x = np.concatenate([x, np.load(os.path.join(data_folder, file))])\n",
    "            y = np.concatenate([y, np.ones(5000)])\n",
    "    else:\n",
    "        print(\"File not recognized\")\n",
    "        continue\n",
    "    \n",
    "\n",
    "x = x[:, np.newaxis, :]\n",
    "\n",
    "print(x.shape)\n",
    "print(y.shape)\n",
    "\n",
    "# convert the data to torch tensors\n",
    "x = torch.tensor(x, dtype=torch.float32)\n",
    "y = torch.tensor(y, dtype=torch.long)\n",
    "\n",
    "# create the dataset\n",
    "dataset = TensorDataset(x, y)\n",
    "\n",
    "# create the DataLoader\n",
    "train_loader = DataLoader(dataset, batch_size=128, shuffle=True)\n"
   ]
  },
  {
   "cell_type": "code",
   "execution_count": 7,
   "metadata": {},
   "outputs": [
    {
     "name": "stdout",
     "output_type": "stream",
     "text": [
      "391\n",
      "torch.Size([128, 1, 1000])\n",
      "torch.Size([128])\n"
     ]
    }
   ],
   "source": [
    "# print the shape of the dataloader\n",
    "print(len(train_loader))\n",
    "for x, y in train_loader:\n",
    "    print(x.shape)\n",
    "    print(y.shape)\n",
    "    break"
   ]
  },
  {
   "cell_type": "code",
   "execution_count": 8,
   "metadata": {},
   "outputs": [],
   "source": [
    "import torch.nn as nn\n",
    "import torch.optim as optim\n",
    "\n",
    "def train_model(model, train_loader, epochs=20, lr=0.001):\n",
    "    device = torch.device(\"mps\" if torch.backends.mps.is_available else \"cpu\")\n",
    "    print(device)\n",
    "    model.to(device)  # Move model to GPU if available\n",
    "\n",
    "    criterion = nn.CrossEntropyLoss()  # Binary classification loss\n",
    "    optimizer = optim.Adam(model.parameters(), lr=lr)  # Adam optimizer\n",
    "\n",
    "    for epoch in range(epochs):\n",
    "        model.train()\n",
    "        running_loss = 0.0\n",
    "        correct = 0\n",
    "        total = 0\n",
    "        \n",
    "        for inputs, labels in train_loader:\n",
    "            inputs, labels = inputs.to(device), labels.to(device)\n",
    "            \n",
    "            optimizer.zero_grad()  # Clear previous gradients\n",
    "            outputs = model(inputs)  # Forward pass\n",
    "            loss = criterion(outputs, labels)  # Compute loss\n",
    "            loss.backward()  # Backpropagation\n",
    "            optimizer.step()  # Update weights\n",
    "            \n",
    "            running_loss += loss.item()\n",
    "            _, predicted = torch.max(outputs, 1)  # Get predictions\n",
    "            total += labels.size(0)\n",
    "            correct += (predicted == labels).sum().item()\n",
    "\n",
    "        train_acc = correct / total\n",
    "        print(f\"Epoch {epoch+1}/{epochs}, Loss: {running_loss/len(train_loader):.4f}, Accuracy: {train_acc:.4f}\")\n",
    "\n",
    "    print(\"Training complete!\")\n"
   ]
  },
  {
   "cell_type": "code",
   "execution_count": 9,
   "metadata": {},
   "outputs": [
    {
     "name": "stderr",
     "output_type": "stream",
     "text": [
      "/Users/alicia/Documents/Master/TFM/learnable-masks-explainability-time-series/.env/lib/python3.10/site-packages/tqdm/auto.py:21: TqdmWarning: IProgress not found. Please update jupyter and ipywidgets. See https://ipywidgets.readthedocs.io/en/stable/user_install.html\n",
      "  from .autonotebook import tqdm as notebook_tqdm\n"
     ]
    },
    {
     "name": "stdout",
     "output_type": "stream",
     "text": [
      "mps\n",
      "Epoch 1/5, Loss: 0.0531, Accuracy: 0.9899\n",
      "Epoch 2/5, Loss: 0.0003, Accuracy: 1.0000\n",
      "Epoch 3/5, Loss: 0.0001, Accuracy: 1.0000\n",
      "Epoch 4/5, Loss: 0.0001, Accuracy: 1.0000\n",
      "Epoch 5/5, Loss: 0.0000, Accuracy: 1.0000\n",
      "Training complete!\n"
     ]
    }
   ],
   "source": [
    "# train the SimpleCNN model\n",
    "from src.models.simple import SimpleCNN\n",
    "\n",
    "model = SimpleCNN(in_channels=1, out_channels=2, hidden_size=64, kernel_size=31)\n",
    "\n",
    "# Train the model\n",
    "train_model(model, train_loader, epochs=5, lr=0.001)\n"
   ]
  },
  {
   "cell_type": "code",
   "execution_count": 10,
   "metadata": {},
   "outputs": [],
   "source": [
    "# save the model\n",
    "torch.save(model.state_dict(), \"./model/checkpoint/simpleCNN_3.pth\")\n"
   ]
  },
  {
   "cell_type": "code",
   "execution_count": null,
   "metadata": {},
   "outputs": [],
   "source": []
  }
 ],
 "metadata": {
  "kernelspec": {
   "display_name": ".env",
   "language": "python",
   "name": "python3"
  },
  "language_info": {
   "codemirror_mode": {
    "name": "ipython",
    "version": 3
   },
   "file_extension": ".py",
   "mimetype": "text/x-python",
   "name": "python",
   "nbconvert_exporter": "python",
   "pygments_lexer": "ipython3",
   "version": "3.10.16"
  }
 },
 "nbformat": 4,
 "nbformat_minor": 2
}
