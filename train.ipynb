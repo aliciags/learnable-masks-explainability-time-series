{
 "cells": [
  {
   "cell_type": "code",
   "execution_count": 14,
   "metadata": {},
   "outputs": [
    {
     "name": "stdout",
     "output_type": "stream",
     "text": [
      "2036\n",
      "570\n",
      "409\n"
     ]
    }
   ],
   "source": [
    "from physioex.train.utils import train, test, finetune\n",
    "from physioex.data import PhysioExDataModule\n",
    "\n",
    "from physioex.train.networks.utils.loss import config as loss_config\n",
    "from physioex.train.networks import config as network_config\n",
    "\n",
    "datamodule = PhysioExDataModule(\n",
    "    datasets=[\"sleepedf\"],     # list of datasets to be used\n",
    "    batch_size=64,             # batch size for the DataLoader\n",
    "    preprocessing=\"raw\",       # preprocessing method\n",
    "    selected_channels=[\"EEG\"], # channels to be selected\n",
    "    sequence_length=21,        # length of the sequence\n",
    "    data_folder=\"./data\",      # path to the data folder\n",
    ")\n",
    "\n",
    "# get the DataLoaders\n",
    "train_loader = datamodule.train_dataloader()\n",
    "val_loader = datamodule.val_dataloader()\n",
    "test_loader = datamodule.test_dataloader()\n",
    "\n",
    "print(len(train_loader)) # number of batches in the training set\n",
    "print(len(val_loader)) # number of batches in the validation set\n",
    "print(len(test_loader)) # number of batches in the test set\n",
    "\n",
    "checkpoint_path = \"./model/checkpoint/\""
   ]
  },
  {
   "cell_type": "code",
   "execution_count": 15,
   "metadata": {},
   "outputs": [
    {
     "name": "stdout",
     "output_type": "stream",
     "text": [
      "{'model_config': {'loss_call': 'physioex.train.networks.utils.loss:CrossEntropyLoss', 'loss_params': {}, 'seq_len': 21, 'n_classes': 5, 'n_channels': 1, 'in_channels': ['EEG'], 'sfreq': 100, 'n_times': 3000, 'learning_rate': '1e-4', 'adam_beta_1': 0.9, 'adam_beta_2': 0.999, 'adam_epsilon': '1e-8', 'latent_space_dim': 32, 'input_processing': 'raw'}, 'checkpoint_path': './model/checkpoint/', 'input_transform': 'raw', 'model': 'physioex.train.networks.chambon2018:Chambon2018Net', 'model_name': 'chambon2018', 'module': 'physioex.train.networks:Chambon2018Net', 'preprocessing': 'raw', 'target_transform': 'physioex.train.networks.utils.target_transform:get_mid_label'}\n",
      "{'loss_call': 'physioex.train.networks.utils.loss:CrossEntropyLoss', 'loss_params': {}, 'seq_len': 21, 'n_classes': 5, 'n_channels': 1, 'in_channels': ['EEG'], 'sfreq': 100, 'n_times': 3000, 'learning_rate': '1e-4', 'adam_beta_1': 0.9, 'adam_beta_2': 0.999, 'adam_epsilon': '1e-8', 'latent_space_dim': 32, 'input_processing': 'raw'}\n",
      "<class 'physioex.train.networks.utils.loss.CrossEntropyLoss'>\n",
      "chambon2018\n",
      "<class 'physioex.train.networks.chambon2018.Chambon2018Net'>\n"
     ]
    }
   ],
   "source": [
    "import os\n",
    "import yaml\n",
    "import importlib\n",
    "\n",
    "# with open(\"./physioex/physioex/train/networks/config/chambon2018.yaml\", \"r\") as file:\n",
    "with open(\"./config.yaml\", \"r\") as file:\n",
    "    config = yaml.safe_load(file)\n",
    "\n",
    "print(config)\n",
    "networks_config = config[\"model_config\"]\n",
    "\n",
    "print(networks_config)\n",
    "\n",
    "# load the loss function \n",
    "loss_package, loss_class = networks_config[\"loss_call\"].split(\":\")\n",
    "model_loss = getattr(importlib.import_module(loss_package), loss_class)\n",
    "\n",
    "print(model_loss)\n",
    "\n",
    "# in case you provide model_name the system loads the additional model parameters from the library\n",
    "if \"model_name\" in config:\n",
    "    model_name = config[\"model_name\"]\n",
    "\n",
    "print(model_name)\n",
    "\n",
    "# load the model class\n",
    "model_package, model_class = config[\"module\"].split(\":\")\n",
    "model_class = getattr(importlib.import_module(model_package), model_class)\n",
    "\n",
    "print(model_class)"
   ]
  },
  {
   "cell_type": "code",
   "execution_count": 16,
   "metadata": {},
   "outputs": [
    {
     "name": "stderr",
     "output_type": "stream",
     "text": [
      "Seed set to 42\n"
     ]
    },
    {
     "ename": "ValueError",
     "evalue": "You requested to find -1 devices but there are no visible CUDA devices on this machine.",
     "output_type": "error",
     "traceback": [
      "\u001b[0;31m---------------------------------------------------------------------------\u001b[0m",
      "\u001b[0;31mValueError\u001b[0m                                Traceback (most recent call last)",
      "Cell \u001b[0;32mIn[16], line 10\u001b[0m\n\u001b[1;32m      1\u001b[0m datamodule_kwargs \u001b[38;5;241m=\u001b[39m {\n\u001b[1;32m      2\u001b[0m     \u001b[38;5;124m\"\u001b[39m\u001b[38;5;124mselected_channels\u001b[39m\u001b[38;5;124m\"\u001b[39m : [\u001b[38;5;124m\"\u001b[39m\u001b[38;5;124mEEG\u001b[39m\u001b[38;5;124m\"\u001b[39m], \u001b[38;5;66;03m# needs to match in_channels\u001b[39;00m\n\u001b[1;32m      3\u001b[0m     \u001b[38;5;124m\"\u001b[39m\u001b[38;5;124msequence_length\u001b[39m\u001b[38;5;124m\"\u001b[39m : networks_config[\u001b[38;5;124m\"\u001b[39m\u001b[38;5;124mseq_len\u001b[39m\u001b[38;5;124m\"\u001b[39m],\n\u001b[0;32m   (...)\u001b[0m\n\u001b[1;32m      6\u001b[0m     \u001b[38;5;124m\"\u001b[39m\u001b[38;5;124mdata_folder\u001b[39m\u001b[38;5;124m\"\u001b[39m : \u001b[38;5;124m\"\u001b[39m\u001b[38;5;124m./data\u001b[39m\u001b[38;5;124m\"\u001b[39m,\n\u001b[1;32m      7\u001b[0m }\n\u001b[1;32m      9\u001b[0m \u001b[38;5;66;03m# Train the model\u001b[39;00m\n\u001b[0;32m---> 10\u001b[0m best_checkpoint \u001b[38;5;241m=\u001b[39m \u001b[43mtrain\u001b[49m\u001b[43m(\u001b[49m\n\u001b[1;32m     11\u001b[0m \u001b[43m    \u001b[49m\u001b[43mdatasets\u001b[49m\u001b[43m \u001b[49m\u001b[38;5;241;43m=\u001b[39;49m\u001b[43m \u001b[49m\u001b[43mdatamodule\u001b[49m\u001b[43m,\u001b[49m\n\u001b[1;32m     12\u001b[0m \u001b[43m    \u001b[49m\u001b[43mdatamodule_kwargs\u001b[49m\u001b[43m \u001b[49m\u001b[38;5;241;43m=\u001b[39;49m\u001b[43m \u001b[49m\u001b[43mdatamodule_kwargs\u001b[49m\u001b[43m,\u001b[49m\n\u001b[1;32m     13\u001b[0m \u001b[43m    \u001b[49m\u001b[43mmodel\u001b[49m\u001b[43m \u001b[49m\u001b[38;5;241;43m=\u001b[39;49m\u001b[43m \u001b[49m\u001b[43mmodel_name\u001b[49m\u001b[43m,\u001b[49m\n\u001b[1;32m     14\u001b[0m \u001b[43m    \u001b[49m\u001b[43mmodel_class\u001b[49m\u001b[43m \u001b[49m\u001b[38;5;241;43m=\u001b[39;49m\u001b[43m \u001b[49m\u001b[43mmodel_class\u001b[49m\u001b[43m,\u001b[49m\n\u001b[1;32m     15\u001b[0m \u001b[43m    \u001b[49m\u001b[43mmodel_config\u001b[49m\u001b[43m \u001b[49m\u001b[38;5;241;43m=\u001b[39;49m\u001b[43m \u001b[49m\u001b[43mnetwork_config\u001b[49m\u001b[43m,\u001b[49m\n\u001b[1;32m     16\u001b[0m \u001b[43m    \u001b[49m\u001b[43mcheckpoint_path\u001b[49m\u001b[43m \u001b[49m\u001b[38;5;241;43m=\u001b[39;49m\u001b[43m \u001b[49m\u001b[43mcheckpoint_path\u001b[49m\u001b[43m,\u001b[49m\n\u001b[1;32m     17\u001b[0m \u001b[43m    \u001b[49m\u001b[43mbatch_size\u001b[49m\u001b[43m \u001b[49m\u001b[38;5;241;43m=\u001b[39;49m\u001b[43m \u001b[49m\u001b[38;5;241;43m64\u001b[39;49m\u001b[43m,\u001b[49m\n\u001b[1;32m     18\u001b[0m \u001b[43m    \u001b[49m\u001b[43mmax_epochs\u001b[49m\u001b[43m \u001b[49m\u001b[38;5;241;43m=\u001b[39;49m\u001b[43m \u001b[49m\u001b[38;5;241;43m10\u001b[39;49m\n\u001b[1;32m     19\u001b[0m \u001b[43m)\u001b[49m\n\u001b[1;32m     21\u001b[0m \u001b[38;5;66;03m# Test the model\u001b[39;00m\n\u001b[1;32m     22\u001b[0m results_dataframe \u001b[38;5;241m=\u001b[39m test(\n\u001b[1;32m     23\u001b[0m     datasets \u001b[38;5;241m=\u001b[39m datamodule,\n\u001b[1;32m     24\u001b[0m     datamodule_kwargs \u001b[38;5;241m=\u001b[39m datamodule_kwargs,\n\u001b[0;32m   (...)\u001b[0m\n\u001b[1;32m     30\u001b[0m                                     \u001b[38;5;66;03m# in your checkpoint directory\u001b[39;00m\n\u001b[1;32m     31\u001b[0m )\n",
      "File \u001b[0;32m~/Documents/Master/TFM/learnable-masks-explainability-time-series/physioex/physioex/train/utils/train.py:120\u001b[0m, in \u001b[0;36mtrain\u001b[0;34m(datasets, datamodule_kwargs, model, model_class, model_config, batch_size, fold, hpc, num_validations, checkpoint_path, max_epochs, num_nodes, resume, monitor, mode)\u001b[0m\n\u001b[1;32m    117\u001b[0m \u001b[38;5;66;03m########### Trainer Setup ############\u001b[39;00m\n\u001b[1;32m    118\u001b[0m \u001b[38;5;28;01mfrom\u001b[39;00m\u001b[38;5;250m \u001b[39m\u001b[38;5;21;01mlightning\u001b[39;00m\u001b[38;5;21;01m.\u001b[39;00m\u001b[38;5;21;01mpytorch\u001b[39;00m\u001b[38;5;21;01m.\u001b[39;00m\u001b[38;5;21;01maccelerators\u001b[39;00m\u001b[38;5;250m \u001b[39m\u001b[38;5;28;01mimport\u001b[39;00m find_usable_cuda_devices\n\u001b[0;32m--> 120\u001b[0m devices \u001b[38;5;241m=\u001b[39m \u001b[43mfind_usable_cuda_devices\u001b[49m\u001b[43m(\u001b[49m\u001b[38;5;241;43m-\u001b[39;49m\u001b[38;5;241;43m1\u001b[39;49m\u001b[43m)\u001b[49m\n\u001b[1;32m    121\u001b[0m logger\u001b[38;5;241m.\u001b[39minfo( \u001b[38;5;124mf\u001b[39m\u001b[38;5;124m\"\u001b[39m\u001b[38;5;124mAvailable devices: \u001b[39m\u001b[38;5;132;01m{\u001b[39;00mdevices\u001b[38;5;132;01m}\u001b[39;00m\u001b[38;5;124m\"\u001b[39m)\n\u001b[1;32m    123\u001b[0m effective_batch_size \u001b[38;5;241m=\u001b[39m batch_size \u001b[38;5;241m*\u001b[39m num_nodes \u001b[38;5;241m*\u001b[39m \u001b[38;5;28mlen\u001b[39m(devices)\n",
      "File \u001b[0;32m~/Documents/Master/TFM/learnable-masks-explainability-time-series/.env/lib/python3.10/site-packages/lightning/fabric/accelerators/cuda.py:101\u001b[0m, in \u001b[0;36mfind_usable_cuda_devices\u001b[0;34m(num_devices)\u001b[0m\n\u001b[1;32m     99\u001b[0m visible_devices \u001b[38;5;241m=\u001b[39m _get_all_visible_cuda_devices()\n\u001b[1;32m    100\u001b[0m \u001b[38;5;28;01mif\u001b[39;00m \u001b[38;5;129;01mnot\u001b[39;00m visible_devices:\n\u001b[0;32m--> 101\u001b[0m     \u001b[38;5;28;01mraise\u001b[39;00m \u001b[38;5;167;01mValueError\u001b[39;00m(\n\u001b[1;32m    102\u001b[0m         \u001b[38;5;124mf\u001b[39m\u001b[38;5;124m\"\u001b[39m\u001b[38;5;124mYou requested to find \u001b[39m\u001b[38;5;132;01m{\u001b[39;00mnum_devices\u001b[38;5;132;01m}\u001b[39;00m\u001b[38;5;124m devices but there are no visible CUDA devices on this machine.\u001b[39m\u001b[38;5;124m\"\u001b[39m\n\u001b[1;32m    103\u001b[0m     )\n\u001b[1;32m    104\u001b[0m \u001b[38;5;28;01mif\u001b[39;00m num_devices \u001b[38;5;241m>\u001b[39m \u001b[38;5;28mlen\u001b[39m(visible_devices):\n\u001b[1;32m    105\u001b[0m     \u001b[38;5;28;01mraise\u001b[39;00m \u001b[38;5;167;01mValueError\u001b[39;00m(\n\u001b[1;32m    106\u001b[0m         \u001b[38;5;124mf\u001b[39m\u001b[38;5;124m\"\u001b[39m\u001b[38;5;124mYou requested to find \u001b[39m\u001b[38;5;132;01m{\u001b[39;00mnum_devices\u001b[38;5;132;01m}\u001b[39;00m\u001b[38;5;124m devices but this machine only has \u001b[39m\u001b[38;5;132;01m{\u001b[39;00m\u001b[38;5;28mlen\u001b[39m(visible_devices)\u001b[38;5;132;01m}\u001b[39;00m\u001b[38;5;124m GPUs.\u001b[39m\u001b[38;5;124m\"\u001b[39m\n\u001b[1;32m    107\u001b[0m     )\n",
      "\u001b[0;31mValueError\u001b[0m: You requested to find -1 devices but there are no visible CUDA devices on this machine."
     ]
    }
   ],
   "source": [
    "datamodule_kwargs = {\n",
    "    \"selected_channels\" : [\"EEG\"], # needs to match in_channels\n",
    "    \"sequence_length\" : networks_config[\"seq_len\"],\n",
    "    \"target_transform\" : config[\"target_transform\"],\n",
    "    \"preprocessing\" : config[\"input_transform\"],\n",
    "    \"data_folder\" : \"./data\",\n",
    "}\n",
    "\n",
    "# Train the model\n",
    "best_checkpoint = train(\n",
    "    datasets = datamodule,\n",
    "    datamodule_kwargs = datamodule_kwargs,\n",
    "    model = model_name,\n",
    "    model_class = model_class,\n",
    "    model_config = network_config,\n",
    "    checkpoint_path = checkpoint_path,\n",
    "    batch_size = 64,\n",
    "    max_epochs = 10\n",
    ")\n",
    "\n",
    "# Test the model\n",
    "results_dataframe = test(\n",
    "    datasets = datamodule,\n",
    "    datamodule_kwargs = datamodule_kwargs,\n",
    "    model_class = model_class,\n",
    "    model_config = network_config,\n",
    "    chekcpoint_path = os.path.join( checkpoint_path, best_checkpoint ),\n",
    "    batch_size = 64,\n",
    "    results_dir = checkpoint_path,  # if you want to save the test results \n",
    "                                    # in your checkpoint directory\n",
    ")"
   ]
  },
  {
   "cell_type": "code",
   "execution_count": null,
   "metadata": {},
   "outputs": [],
   "source": [
    "# check if mps available and set device to mps\n"
   ]
  }
 ],
 "metadata": {
  "kernelspec": {
   "display_name": ".env",
   "language": "python",
   "name": "python3"
  },
  "language_info": {
   "codemirror_mode": {
    "name": "ipython",
    "version": 3
   },
   "file_extension": ".py",
   "mimetype": "text/x-python",
   "name": "python",
   "nbconvert_exporter": "python",
   "pygments_lexer": "ipython3",
   "version": "3.10.16"
  }
 },
 "nbformat": 4,
 "nbformat_minor": 2
}
