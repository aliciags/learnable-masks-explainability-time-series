{
 "cells": [
  {
   "cell_type": "code",
   "execution_count": null,
   "metadata": {},
   "outputs": [],
   "source": [
    "import os\n",
    "import yaml\n",
    "import torch\n",
    "import importlib\n",
    "import numpy as np\n",
    "import matplotlib.pyplot as plt\n",
    "from physioex.physioex.data import PhysioExDataModule\n",
    "from src.attribution.flextime import Filterbank"
   ]
  },
  {
   "cell_type": "code",
   "execution_count": null,
   "metadata": {},
   "outputs": [],
   "source": [
    "datamodule = PhysioExDataModule(\n",
    "    datasets=[\"sleepedf\"],     # list of datasets to be used\n",
    "    batch_size=64,             # batch size for the DataLoader\n",
    "    preprocessing=\"raw\",       # preprocessing method\n",
    "    selected_channels=[\"EEG\"], # channels to be selected\n",
    "    sequence_length=21,        # length of the sequence\n",
    "    data_folder=\"./data\",      # path to the data folder\n",
    ")\n",
    "\n",
    "# get the DataLoaders\n",
    "train_loader = datamodule.train_dataloader()\n",
    "val_loader = datamodule.val_dataloader()\n",
    "test_loader = datamodule.test_dataloader()\n",
    "\n",
    "print(len(train_loader)) # number of batches in the training set\n",
    "print(len(val_loader)) # number of batches in the validation set\n",
    "print(len(test_loader)) # number of batches in the test set\n",
    "\n",
    "checkpoint_path = \"./model/checkpoint/\""
   ]
  },
  {
   "cell_type": "code",
   "execution_count": null,
   "metadata": {},
   "outputs": [],
   "source": [
    "# with open(\"./physioex/physioex/train/networks/config/chambon2018.yaml\", \"r\") as file:\n",
    "with open(\"./config.yaml\", \"r\") as file:\n",
    "    config = yaml.safe_load(file)\n",
    "\n",
    "print(config)\n",
    "network_config = config[\"model_config\"]\n",
    "\n",
    "print(network_config)\n",
    "\n",
    "# load the loss function \n",
    "loss_package, loss_class = network_config[\"loss_call\"].split(\":\")\n",
    "model_loss = getattr(importlib.import_module(loss_package), loss_class)\n",
    "\n",
    "print(model_loss)\n",
    "\n",
    "# in case you provide model_name the system loads the additional model parameters from the library\n",
    "if \"model_name\" in config:\n",
    "    model_name = config[\"model_name\"]\n",
    "    # load the loss function \n",
    "    model_package, model_loader = network_config[\"loss_call\"].split(\":\")\n",
    "    model = getattr(importlib.import_module(model_package), model_loader)\n",
    "\n",
    "print(model_name)\n",
    "\n",
    "# load the model class\n",
    "model_package, model_class = config[\"module\"].split(\":\")\n",
    "model_class = getattr(importlib.import_module(model_package), model_class)\n",
    "\n",
    "print(model_class)"
   ]
  }
 ],
 "metadata": {
  "language_info": {
   "name": "python"
  }
 },
 "nbformat": 4,
 "nbformat_minor": 2
}
