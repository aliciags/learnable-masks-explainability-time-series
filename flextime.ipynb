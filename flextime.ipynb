{
 "cells": [
  {
   "cell_type": "code",
   "execution_count": null,
   "metadata": {},
   "outputs": [],
   "source": [
    "from src.attribution.flextime import FLEXtimeMask, Filterbank\n",
    "from physioex.physioex.data import PhysioExDataModule"
   ]
  },
  {
   "cell_type": "code",
   "execution_count": null,
   "metadata": {},
   "outputs": [],
   "source": [
    "datamodule = PhysioExDataModule(\n",
    "    datasets=[\"sleepedf\"],     # list of datasets to be used\n",
    "    batch_size=64,             # batch size for the DataLoader\n",
    "    preprocessing=\"raw\",       # preprocessing method\n",
    "    selected_channels=[\"EEG\"],  # channels to be selected\n",
    "    sequence_length=7,        # length of the sequence\n",
    "    data_folder=\"./data\",      # path to the data folder\n",
    ")"
   ]
  }
 ],
 "metadata": {
  "kernelspec": {
   "display_name": ".env",
   "language": "python",
   "name": "python3"
  },
  "language_info": {
   "name": "python",
   "version": "3.10.16"
  }
 },
 "nbformat": 4,
 "nbformat_minor": 2
}
